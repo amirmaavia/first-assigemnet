{
 "cells": [
  {
   "cell_type": "code",
   "execution_count": 1,
   "metadata": {},
   "outputs": [
    {
     "name": "stdout",
     "output_type": "stream",
     "text": [
      "Enter your marks of English out of 100 =56\n",
      "Enter your marks of Urdu out of 100 =70\n",
      "Enter your marks of Islamiat out of 100 =80\n",
      "Enter your marks of Math out of 100 =33\n",
      "Enter your marks of Science out of 100 =33\n",
      "Your Total Marks are54.400000000000006\n",
      "enter your percentage %: 54\n",
      " Congratulations! You have Secured C \n"
     ]
    }
   ],
   "source": [
    "Subject_1 = int(input(\"Enter your marks of English out of 100 =\"))\n",
    "Subject_2 = int(input(\"Enter your marks of Urdu out of 100 =\"))\n",
    "Subject_3 = int(input(\"Enter your marks of Islamiat out of 100 =\"))\n",
    "Subject_4 = int(input(\"Enter your marks of Math out of 100 =\"))\n",
    "Subject_5 = int(input(\"Enter your marks of Science out of 100 =\"))\n",
    "Total_marks = Subject_1 + Subject_2 + Subject_3 + Subject_4 + Subject_5\n",
    "Percentage = (Total_marks/500)*100\n",
    "print(\"Your Total Marks are\" + str (Percentage))\n",
    "\n",
    "\n",
    "\n",
    "\n",
    "\n",
    "\n",
    "\n",
    "per = int(input(\"enter your percentage %: \"))\n",
    "if per >= 80 and per <=100:\n",
    "    print(\"Congratulations! You have Secured A+1   \")\n",
    "elif per >= 70 and per <=79:\n",
    "    print(\" Congratulations! You have Secured A \")\n",
    "elif per >=60 and per <=69:\n",
    "    print(\"Congratulations! You have Secured  B \")\n",
    "elif per >=50 and per <=59:\n",
    "    print(\" Congratulations! You have Secured C \")\n",
    "elif per >=40 and per <=49:\n",
    "    print(\" Congratulations! You have Secured D \")\n",
    "elif per >=33 and per <=39:\n",
    "    print(\" Congratulations! You have Secured E \")\n",
    "else:\n",
    "    print(\" Fail! BETTER LUCK NEXT TIME  \")\n",
    "    "
   ]
  },
  {
   "cell_type": "code",
   "execution_count": 2,
   "metadata": {},
   "outputs": [
    {
     "name": "stdout",
     "output_type": "stream",
     "text": [
      "ENTER YOUR NUMBER2\n",
      "2 is Even\n"
     ]
    }
   ],
   "source": [
    "x = int(input(\"ENTER YOUR NUMBER\"))\n",
    "if x%2==0:\n",
    "    print(x, \"is Even\")\n",
    "else:\n",
    "    print(x, \"is Old\")"
   ]
  },
  {
   "cell_type": "code",
   "execution_count": 3,
   "metadata": {},
   "outputs": [
    {
     "name": "stdout",
     "output_type": "stream",
     "text": [
      "The length of list is:  6\n"
     ]
    }
   ],
   "source": [
    "# Write a program which print the length of the list?\n",
    "a = [] \n",
    "a.append(\"Amir\") \n",
    "a.append(\"Maavia\") \n",
    "a.append(\"Muhammad\") \n",
    "a.append(\"Saleem\") \n",
    "a.append(\"Karachi\")\n",
    "a.append(\"Pakistan\")\n",
    "print(\"The length of list is: \", len(a))"
   ]
  },
  {
   "cell_type": "code",
   "execution_count": 5,
   "metadata": {},
   "outputs": [
    {
     "name": "stdout",
     "output_type": "stream",
     "text": [
      "how many numbers: 10\n",
      "Enter Number:10\n",
      "sum of elements is given list is : 10\n",
      "Enter Number:10\n",
      "sum of elements is given list is : 20\n",
      "Enter Number:10\n",
      "sum of elements is given list is : 30\n",
      "Enter Number:10\n",
      "sum of elements is given list is : 40\n",
      "Enter Number:10\n",
      "sum of elements is given list is : 50\n",
      "Enter Number:10\n",
      "sum of elements is given list is : 60\n",
      "Enter Number:10\n",
      "sum of elements is given list is : 70\n",
      "Enter Number:10\n",
      "sum of elements is given list is : 80\n",
      "Enter Number:10\n",
      "sum of elements is given list is : 90\n",
      "Enter Number:10\n",
      "sum of elements is given list is : 100\n"
     ]
    }
   ],
   "source": [
    "# Write a Python program to sum all the numeric items in a list?\n",
    "lst = []\n",
    "num = int(input(\"how many numbers: \"))\n",
    "for n in range(num):\n",
    "    numbers = int(input(\"Enter Number:\"))\n",
    "    lst.append(numbers)\n",
    "    print(\"sum of elements is given list is :\",sum(lst))"
   ]
  },
  {
   "cell_type": "code",
   "execution_count": 7,
   "metadata": {},
   "outputs": [
    {
     "name": "stdout",
     "output_type": "stream",
     "text": [
      "How many numbers:2\n",
      "Enter number10\n",
      "Enter number15\n",
      "Maximum element in the list is : 15 \n",
      "Minimum element in the list is : 10\n"
     ]
    }
   ],
   "source": [
    "# Write a Python program to get the largest number from a numeric list?\n",
    "lst = []\n",
    "num = int(input('How many numbers: '))\n",
    "for n in range(num):\n",
    "    numbers = int(input('Enter number '))\n",
    "    lst.append(numbers)\n",
    "print(\"Maximum element in the list is :\", max(lst), \"\\nMinimum element in the list is :\", min(lst))"
   ]
  },
  {
   "cell_type": "code",
   "execution_count": 1,
   "metadata": {},
   "outputs": [
    {
     "name": "stdout",
     "output_type": "stream",
     "text": [
      "1\n",
      "1\n",
      "2\n",
      "3\n",
      "4\n"
     ]
    }
   ],
   "source": [
    "# write a program that prints out all the elements of the list that are less than 5.\n",
    "a = [1, 1, 2, 3, 4, 5, 8, 13, 21, 34, 55, 89]\n",
    "\n",
    "for i in a:\n",
    "\n",
    "    if i < 5:\n",
    "\n",
    "        print(i)"
   ]
  },
  {
   "cell_type": "code",
   "execution_count": null,
   "metadata": {},
   "outputs": [],
   "source": []
  }
 ],
 "metadata": {
  "kernelspec": {
   "display_name": "Python 3",
   "language": "python",
   "name": "python3"
  },
  "language_info": {
   "codemirror_mode": {
    "name": "ipython",
    "version": 3
   },
   "file_extension": ".py",
   "mimetype": "text/x-python",
   "name": "python",
   "nbconvert_exporter": "python",
   "pygments_lexer": "ipython3",
   "version": "3.7.3"
  }
 },
 "nbformat": 4,
 "nbformat_minor": 2
}
