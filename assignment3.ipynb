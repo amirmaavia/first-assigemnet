{
 "cells": [
  {
   "cell_type": "code",
   "execution_count": 10,
   "metadata": {},
   "outputs": [
    {
     "name": "stdout",
     "output_type": "stream",
     "text": [
      "Enter first value 5\n",
      "Enter Operator**\n",
      "Enter second value 2\n",
      "25 answer\n"
     ]
    }
   ],
   "source": [
    "val1  = int(input(\"Enter first value \" ))\n",
    "operator = input(\"Enter Operator\")\n",
    "val2 = int(input(\"Enter second value \"))\n",
    "\n",
    "\n",
    "if operator == \"+\":\n",
    "    val = val1 + val2\n",
    "    print(val, \"answer\" )\n",
    "elif operator == \"-\":\n",
    "    val = val1 - val2\n",
    "    print(val, \"answer\" )\n",
    "elif operator == \"*\":\n",
    "    val = val1 * val2\n",
    "    print(val, \"answer\" )\n",
    "elif operator == \"/\":\n",
    "    val = val1 / val2\n",
    "    print(val, \"answer\" )\n",
    "elif operator == \"**\":\n",
    "    val = val1 ** val2\n",
    "    print(val, \"answer\" )\n",
    "else:\n",
    "    print(\"Enter Correct Operator\")"
   ]
  },
  {
   "cell_type": "code",
   "execution_count": null,
   "metadata": {},
   "outputs": [],
   "source": []
  },
  {
   "cell_type": "code",
   "execution_count": 1,
   "metadata": {},
   "outputs": [
    {
     "name": "stdout",
     "output_type": "stream",
     "text": [
      "First_name Amir\n",
      "Last_name Maavia\n",
      "Address F01 RSM\n",
      "Enter your Value: pakisatni\n",
      "Enter your key: natinality\n",
      "{'First_name': 'Amir', 'Last_name': 'Maavia', 'Address': 'F01 RSM', 'natinality': 'pakisatni'}\n",
      "First_name Amir\n",
      "Last_name Maavia\n",
      "Address F01 RSM\n",
      "natinality pakisatni\n"
     ]
    }
   ],
   "source": [
    "# Write a Python script to add a key to a dictionary\n",
    "costumer = {\n",
    "    \"First_name\": \"Amir\",\n",
    "    \"Last_name\": \"Maavia\",\n",
    "    \"Address\": \"F01 RSM\"\n",
    "}\n",
    "for key, value in costumer.items():\n",
    "    print(key,value)\n",
    "costumer[input(\"Enter your key: \")] = input(\"Enter your Value: \")\n",
    "    \n",
    "print(costumer)\n",
    "for key, value in costumer.items():\n",
    "    print(key, value)"
   ]
  },
  {
   "cell_type": "code",
   "execution_count": 13,
   "metadata": {},
   "outputs": [
    {
     "name": "stdout",
     "output_type": "stream",
     "text": [
      "Enter number: 6\n",
      "Checking........\n",
      "This isn't exist in the list\n",
      "This isn't exist in the list\n",
      "This isn't exist in the list\n",
      "This isn't exist in the list\n",
      "This isn't exist in the list\n",
      "This is exist in the list\n"
     ]
    }
   ],
   "source": [
    "# . Write a program to check if there is any numeric value in list using for loop\n",
    "\n",
    "list_ = [1, 2, 3, 4, 5, 6];\n",
    "num = int(input(\"Enter number: \"));\n",
    "print(\"Checking........\")\n",
    "for number in list_:\n",
    "    if num == number:\n",
    "        print (\"This is exist in the list\")\n",
    "        break\n",
    "    else:\n",
    "        print (\"This isn't exist in the list\")\n",
    "        "
   ]
  },
  {
   "cell_type": "code",
   "execution_count": 3,
   "metadata": {},
   "outputs": [
    {
     "name": "stdout",
     "output_type": "stream",
     "text": [
      "{'Amir Maavia': 56, 'Muhammad Munaf': 54, 'Muhammad Yousof': 45}\n",
      "The_Total 155\n"
     ]
    }
   ],
   "source": [
    "# Write a Python program to sum all the numeric items in a dictionary\n",
    "student_attendence = {\"Amir Maavia\": 56, \"Muhammad Munaf\": 54, \"Muhammad Yousof\":45,}\n",
    "print(student_attendence)\n",
    "tot = sum(student_attendence.values())\n",
    "print(\"The_Total\",+tot)"
   ]
  },
  {
   "cell_type": "code",
   "execution_count": 4,
   "metadata": {},
   "outputs": [
    {
     "name": "stdout",
     "output_type": "stream",
     "text": [
      "Key is present in the dictionary\n",
      "Key is not present in the dictionary\n"
     ]
    }
   ],
   "source": [
    "# Write a Python program to sum all the numeric items in a dictionary\n",
    "d = {1: 10, 2: 20, 3: 30, 4: 40, 5: 50, 6: 60}\n",
    "def is_key_present(x):\n",
    "    \n",
    "  if x in d:\n",
    "        print('Key is present in the dictionary')\n",
    "  else:\n",
    "        print('Key is not present in the dictionary')\n",
    "is_key_present(5)\n",
    "is_key_present(8)"
   ]
  },
  {
   "cell_type": "code",
   "execution_count": 5,
   "metadata": {},
   "outputs": [
    {
     "name": "stdout",
     "output_type": "stream",
     "text": [
      "[20, 30, 60]\n"
     ]
    }
   ],
   "source": [
    "# Write a program to identify duplicate values from list\n",
    "\n",
    "def Repeat(x): \n",
    "    _size = len(x) \n",
    "    repeated = [] \n",
    "    for i in range(_size): \n",
    "        k = i + 1\n",
    "        for j in range(k, _size): \n",
    "            if x[i] == x[j] and x[i] not in repeated: \n",
    "                repeated.append(x[i]) \n",
    "    return repeated \n",
    " \n",
    "list1 = [10, 20, 30, 20, 20, 30, 40, 50, -20, 60, 60, 20, 20] \n",
    "print (Repeat(list1))"
   ]
  },
  {
   "cell_type": "code",
   "execution_count": null,
   "metadata": {},
   "outputs": [],
   "source": []
  }
 ],
 "metadata": {
  "kernelspec": {
   "display_name": "Python 3",
   "language": "python",
   "name": "python3"
  },
  "language_info": {
   "codemirror_mode": {
    "name": "ipython",
    "version": 3
   },
   "file_extension": ".py",
   "mimetype": "text/x-python",
   "name": "python",
   "nbconvert_exporter": "python",
   "pygments_lexer": "ipython3",
   "version": "3.7.3"
  }
 },
 "nbformat": 4,
 "nbformat_minor": 2
}
