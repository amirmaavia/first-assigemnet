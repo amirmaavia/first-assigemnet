{
 "cells": [
  {
   "cell_type": "code",
   "execution_count": 24,
   "metadata": {},
   "outputs": [
    {
     "name": "stdout",
     "output_type": "stream",
     "text": [
      "amir maavia\n",
      "aivaam rima\n"
     ]
    }
   ],
   "source": [
    "firstname = (\"amir\")\n",
    "lastname = (\"maavia\")\n",
    "fullname = firstname + \" \" + lastname\n",
    "print(fullname)\n",
    "print(fullname[len(fullname) -1 :: -1]) #logic for reverse function\n",
    "    "
   ]
  },
  {
   "cell_type": "code",
   "execution_count": 11,
   "metadata": {},
   "outputs": [
    {
     "name": "stdout",
     "output_type": "stream",
     "text": [
      "amir maavia Muhammad saleem\n",
      "meelas dammahuM aivaam rima\n"
     ]
    }
   ],
   "source": [
    "firstname = (\"amir maavia\")\n",
    "lastname = (\"Muhammad saleem\")\n",
    "fullname = firstname + \" \" + lastname\n",
    "print(fullname)\n",
    "print(fullname[len(fullname) -1 :: -1])"
   ]
  },
  {
   "cell_type": "code",
   "execution_count": 30,
   "metadata": {},
   "outputs": [
    {
     "name": "stdout",
     "output_type": "stream",
     "text": [
      " Twinkle, Twinkle, litter start,\n",
      "\t How are wonder what you are! \n",
      "\t\t Up above the world so high, \n",
      "\t\t Like the diamond in the sky, \n",
      " Twinkle, Twinkle, litter start,\n",
      "\t How are wonder what you are!\n"
     ]
    }
   ],
   "source": [
    "print(\" Twinkle, Twinkle, litter start,\\n\\t How are wonder what you are! \\n\\t\\t Up above the world so high, \\n\\t\\t Like the diamond in the sky, \\n Twinkle, Twinkle, litter start,\\n\\t How are wonder what you are!\")"
   ]
  },
  {
   "cell_type": "code",
   "execution_count": 31,
   "metadata": {},
   "outputs": [
    {
     "name": "stdout",
     "output_type": "stream",
     "text": [
      "python version\n",
      "3.7.3 (default, Mar 27 2019, 22:11:17) \n",
      "[GCC 7.3.0]\n"
     ]
    }
   ],
   "source": [
    "import sys \n",
    "print(\"python version\")\n",
    "print(sys.version)"
   ]
  },
  {
   "cell_type": "code",
   "execution_count": 36,
   "metadata": {},
   "outputs": [
    {
     "name": "stdout",
     "output_type": "stream",
     "text": [
      "version info\n",
      "sys.version_info(major=3, minor=7, micro=3, releaselevel='final', serial=0)\n"
     ]
    }
   ],
   "source": [
    "\n",
    "print(\"version info\")\n",
    "print(sys.version_info)"
   ]
  },
  {
   "cell_type": "code",
   "execution_count": 40,
   "metadata": {},
   "outputs": [
    {
     "name": "stdout",
     "output_type": "stream",
     "text": [
      "Current date and time : 13-11-2019 04:21:18\n"
     ]
    }
   ],
   "source": [
    "import datetime\n",
    "now = datetime.datetime.now()\n",
    "print (\"Current date and time : \"+now.strftime(\"%d-%m-%Y %H:%M:%S\"))"
   ]
  },
  {
   "cell_type": "code",
   "execution_count": null,
   "metadata": {},
   "outputs": [],
   "source": []
  }
 ],
 "metadata": {
  "kernelspec": {
   "display_name": "Python 3",
   "language": "python",
   "name": "python3"
  },
  "language_info": {
   "codemirror_mode": {
    "name": "ipython",
    "version": 3
   },
   "file_extension": ".py",
   "mimetype": "text/x-python",
   "name": "python",
   "nbconvert_exporter": "python",
   "pygments_lexer": "ipython3",
   "version": "3.7.3"
  }
 },
 "nbformat": 4,
 "nbformat_minor": 2
}
