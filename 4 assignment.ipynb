{
 "cells": [
  {
   "cell_type": "code",
   "execution_count": 28,
   "metadata": {},
   "outputs": [
    {
     "name": "stdout",
     "output_type": "stream",
     "text": [
      "{'first_name': 'Amir', 'last_name': 'maavia', 'age': 19, 'qualification': 'intermediate'}\n"
     ]
    }
   ],
   "source": [
    "#Question no 1\n",
    "\n",
    "customer = {\n",
    "        \"first_name\": \"Amir\",\n",
    "        \"last_name\": \"maavia\",\n",
    "        \"age\": 19\n",
    "    }\n",
    "\n",
    "customer[\"qualification\"] = \"intermediate\"\n",
    "print(customer)\n"
   ]
  },
  {
   "cell_type": "code",
   "execution_count": 30,
   "metadata": {},
   "outputs": [
    {
     "name": "stdout",
     "output_type": "stream",
     "text": [
      "{'first_name': 'Amir', 'last_name': 'maavia', 'age': 19, 'qualification': 'Mcom'}\n"
     ]
    }
   ],
   "source": [
    "customer[\"qualification\"] = \"Mcom\"\n",
    "print(customer)"
   ]
  },
  {
   "cell_type": "code",
   "execution_count": 31,
   "metadata": {},
   "outputs": [
    {
     "name": "stdout",
     "output_type": "stream",
     "text": [
      "{'first_name': 'Amir', 'last_name': 'maavia', 'age': 19}\n"
     ]
    }
   ],
   "source": [
    "del customer[\"qualification\"]\n",
    "print(customer)"
   ]
  },
  {
   "cell_type": "code",
   "execution_count": 85,
   "metadata": {},
   "outputs": [
    {
     "name": "stdout",
     "output_type": "stream",
     "text": [
      "{'country': 'pakistan', 'pupolation': 'minimum 20million', 'facts': 'karachi is the biggest city in pakistan'}\n"
     ]
    }
   ],
   "source": [
    "#Question no 2\n",
    "cities = {\n",
    "\n",
    "\"Karachi\": {\n",
    "      \"country\":\"pakistan\",\"pupolation\": \"minimum 20million\",\"facts\": \"karachi is the biggest city in pakistan\"\n",
    "},\n",
    "\"Dubai\": {\n",
    "    \"country\": \"U.A.E\",\"population\":\"minimum 3million\",\"facts\":\"Dubai is a global city and the business hub of the Middle East.\"\n",
    "},\n",
    "\"Makkah\": {\n",
    "    \"country\": \"saudia-arabia\",\"population\": \"5 Lakhs\", \"facts\":\"most beautiful place in world\"\n",
    "}\n",
    "}\n",
    "#for city_value in cities.item():\n",
    "   # print(city_value)\n",
    "print(cities[\"Karachi\"])\n",
    "    \n"
   ]
  },
  {
   "cell_type": "code",
   "execution_count": 2,
   "metadata": {},
   "outputs": [
    {
     "name": "stdout",
     "output_type": "stream",
     "text": [
      "what's your age15\n",
      "your ticket is $15\n"
     ]
    }
   ],
   "source": [
    "#Q 3\n",
    "age = int(input(\"what's your age\"))\n",
    "if age < 3:\n",
    "    print(\"Free\")\n",
    "elif age < 13:\n",
    "    print(\"your ticket is $10\")\n",
    "else:\n",
    "    print(\"your ticket is $15\")"
   ]
  },
  {
   "cell_type": "code",
   "execution_count": 1,
   "metadata": {},
   "outputs": [
    {
     "name": "stdout",
     "output_type": "stream",
     "text": [
      "fav_bookHTML and CSS Design and Build Websites\n",
      "HTML and CSS Design and Build Websites is one of my favorite books\n"
     ]
    }
   ],
   "source": [
    "#Q 4\n",
    "def fav_book(title):\n",
    "    print(title,\"is one of my favorite books\")\n",
    "    \n",
    "fav_book(input(\"fav_book\"))\n"
   ]
  },
  {
   "cell_type": "code",
   "execution_count": null,
   "metadata": {},
   "outputs": [
    {
     "name": "stdout",
     "output_type": "stream",
     "text": [
      "Hello What is your name?\n"
     ]
    }
   ],
   "source": []
  },
  {
   "cell_type": "code",
   "execution_count": 1,
   "metadata": {},
   "outputs": [
    {
     "name": "stdout",
     "output_type": "stream",
     "text": [
      "Hello,What,s Your Name\n",
      "amir maavia\n",
      "I am thinking of is b/w 1 to 30 amir maavia\n",
      "Take a Guess\n",
      "23\n",
      "Number is to High\n",
      "Take a Guess\n",
      "13\n",
      "Number is to Low\n",
      "Take a Guess\n",
      "27\n",
      "Number is to High\n",
      "Unlucky, the number was21 \n"
     ]
    }
   ],
   "source": [
    "import random\n",
    "NumOfGuesses = 0 \n",
    "print(\"Hello,What,s Your Name\")\n",
    "name = input()\n",
    "number = random.randint(1, 30)\n",
    "print(f\"I am thinking of is b/w 1 to 30 {name}\")\n",
    "while NumOfGuesses < 3:\n",
    "    print(\"Take a Guess\")\n",
    "    guess = int(input())\n",
    "    NumOfGuesses = NumOfGuesses + 1\n",
    "    if guess < number:\n",
    "        print(\"Number is to Low\")\n",
    "    elif guess > number:\n",
    "        print(\"Number is to High\")\n",
    "    elif guess == number:\n",
    "        break\n",
    "if guess == number:\n",
    "    NumOfGuesses = str(NumOfGuesses)\n",
    "    print(f\"Welldone {name} you guessed the number in {NumOfGuesses}\")\n",
    "elif guess != number:\n",
    "    number = str(number)\n",
    "    print(f\"Unlucky, the number was{number} \")\n",
    "else:\n",
    "    print(\"Enter number b/w 1 to 30\")"
   ]
  },
  {
   "cell_type": "code",
   "execution_count": null,
   "metadata": {},
   "outputs": [],
   "source": []
  }
 ],
 "metadata": {
  "kernelspec": {
   "display_name": "Python 3",
   "language": "python",
   "name": "python3"
  },
  "language_info": {
   "codemirror_mode": {
    "name": "ipython",
    "version": 3
   },
   "file_extension": ".py",
   "mimetype": "text/x-python",
   "name": "python",
   "nbconvert_exporter": "python",
   "pygments_lexer": "ipython3",
   "version": "3.7.3"
  }
 },
 "nbformat": 4,
 "nbformat_minor": 2
}
