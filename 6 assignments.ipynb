{
 "cells": [
  {
   "cell_type": "code",
   "execution_count": 1,
   "metadata": {},
   "outputs": [
    {
     "name": "stdout",
     "output_type": "stream",
     "text": [
      "Object-oriented programming (OOP) refers to a type of computer programming (software design) in which programmers define the data type of a data structure, and also the types of operations (functions) that can be applied to the data structure.\n"
     ]
    }
   ],
   "source": [
    "# Question 1\n",
    "print(\"Object-oriented programming (OOP) refers to a type of computer programming (software design) in which programmers define the data type of a data structure, and also the types of operations (functions) that can be applied to the data structure.\")"
   ]
  },
  {
   "cell_type": "code",
   "execution_count": 8,
   "metadata": {},
   "outputs": [
    {
     "name": "stdout",
     "output_type": "stream",
     "text": [
      "1 . It provides a good framework for code libraries where the supplied software components can be easily adapted and modified by the programmer. This is particularly useful for developing graphical user interfaces \n",
      "2 . It provides a clear modular structure for programs which makes it good for defining abstract datatypes in which implementation details are hidden\n",
      "3 . Objects can also be reused within an across applications. The reuse of software also lowers the cost of development. More effort is put into the object-oriented analysis and design, which lowers the overall cost of development. \n"
     ]
    }
   ],
   "source": [
    "# Question 2\n",
    "print(\"1 . It provides a good framework for code libraries where the supplied software components can be easily adapted and modified by the programmer. This is particularly useful for developing graphical user interfaces \\n2 . It provides a clear modular structure for programs which makes it good for defining abstract datatypes in which implementation details are hidden\\n3 . Objects can also be reused within an across applications. The reuse of software also lowers the cost of development. More effort is put into the object-oriented analysis and design, which lowers the overall cost of development. \")"
   ]
  },
  {
   "cell_type": "code",
   "execution_count": 21,
   "metadata": {},
   "outputs": [
    {
     "name": "stdout",
     "output_type": "stream",
     "text": [
      "-------------------    \n",
      "       Function      \n",
      " ------------------\n",
      "A function is a piece of code that is called by name. It can be passed data to operate on (i.e. the parameters) and can optionally return data (the return value). All data that is passed to a function is explicitly passed.\n",
      "\n",
      "\n",
      "-------------------    \n",
      "       Method     \n",
      " ------------------\n",
      "A method is a piece of code that is called by a name that is associated with an object. In most respects it is identical to a function except for two key differences:\n",
      "1 . A method is implicitly passed the object on which it was called.\n",
      "2 . A method is able to operate on data that is contained within the class (remembering that an object is an instance of a class - the class is the definition, the object is an instance of that data)\n"
     ]
    }
   ],
   "source": [
    "#Question 3 \n",
    "print(\"-------------------    \\n       Function      \\n ------------------\")\n",
    "print(\"A function is a piece of code that is called by name. It can be passed data to operate on (i.e. the parameters) and can optionally return data (the return value). All data that is passed to a function is explicitly passed.\\n\\n\")\n",
    "print(\"-------------------    \\n       Method     \\n ------------------\")\n",
    "print(\"A method is a piece of code that is called by a name that is associated with an object. In most respects it is identical to a function except for two key differences:\\n1 . A method is implicitly passed the object on which it was called.\\n2 . A method is able to operate on data that is contained within the class (remembering that an object is an instance of a class - the class is the definition, the object is an instance of that data)\")"
   ]
  },
  {
   "cell_type": "code",
   "execution_count": 26,
   "metadata": {},
   "outputs": [
    {
     "name": "stdout",
     "output_type": "stream",
     "text": [
      "-------------------    \n",
      "       Class      \n",
      " ------------------\n",
      "A class is an entity that determines how an object will behave and what the object will contain. In other words, it is a blueprint or a set of instruction to build a specific type of object\n",
      "-------------------    \n",
      "       Object      \n",
      " ------------------\n",
      "An object is nothing but a self-contained component which consists of methods and properties to make a particular type of data useful. Object determines the behavior of the class. When you send a message to an object, you are asking the object to invoke or execute one of its methods.\n",
      "-------------------    \n",
      "       Attribute      \n",
      " ------------------\n",
      "In Object-oriented programming(OOP), classes and objects have attributes. Attributes are data stored inside a class or instance and represent the state or quality of the class or instance. In short, attributes store information about the instance. Also, attributes should not be confused with class functions also known as methods. One can think of attributes as noun or adjective, while methods are the verb of the class.\n",
      "-------------------    \n",
      "       Behavior      \n",
      " ------------------\n",
      "In Behavior-oriented programming(Opp), behavior is the any hobby is person is called behavior\n"
     ]
    }
   ],
   "source": [
    "# Question 4 \n",
    "print(\"-------------------    \\n       Class      \\n ------------------\")\n",
    "print(\"A class is an entity that determines how an object will behave and what the object will contain. In other words, it is a blueprint or a set of instruction to build a specific type of object\")\n",
    "\n",
    "print(\"-------------------    \\n       Object      \\n ------------------\")\n",
    "print(\"An object is nothing but a self-contained component which consists of methods and properties to make a particular type of data useful. Object determines the behavior of the class. When you send a message to an object, you are asking the object to invoke or execute one of its methods.\")\n",
    "print(\"-------------------    \\n       Attribute      \\n ------------------\")\n",
    "print(\"In Object-oriented programming(OOP), classes and objects have attributes. Attributes are data stored inside a class or instance and represent the state or quality of the class or instance. In short, attributes store information about the instance. Also, attributes should not be confused with class functions also known as methods. One can think of attributes as noun or adjective, while methods are the verb of the class.\")\n",
    "print(\"-------------------    \\n       Behavior      \\n ------------------\")\n",
    "print(\"In Behavior-oriented programming(Opp), behavior is the any hobby is person is called behavior\")"
   ]
  },
  {
   "cell_type": "code",
   "execution_count": null,
   "metadata": {},
   "outputs": [],
   "source": []
  }
 ],
 "metadata": {
  "kernelspec": {
   "display_name": "Python 3",
   "language": "python",
   "name": "python3"
  },
  "language_info": {
   "codemirror_mode": {
    "name": "ipython",
    "version": 3
   },
   "file_extension": ".py",
   "mimetype": "text/x-python",
   "name": "python",
   "nbconvert_exporter": "python",
   "pygments_lexer": "ipython3",
   "version": "3.7.3"
  }
 },
 "nbformat": 4,
 "nbformat_minor": 2
}
